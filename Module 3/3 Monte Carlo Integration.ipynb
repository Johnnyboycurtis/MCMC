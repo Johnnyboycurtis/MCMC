{
 "cells": [
  {
   "cell_type": "markdown",
   "metadata": {},
   "source": [
    "# Monte Carlo Integration"
   ]
  },
  {
   "cell_type": "code",
   "execution_count": 1,
   "metadata": {
    "collapsed": true
   },
   "outputs": [],
   "source": [
    "import numpy as np\n",
    "import matplotlib.pyplot as plt\n",
    "\n",
    "## set style\n",
    "plt.style.use(\"ggplot\") ## use plt.style.availalbe to see all styles\n",
    "\n",
    "def summary(data):\n",
    "    \"\"\" To print out summary statistics\"\"\"\n",
    "    titles = \" Min.:, 1st Qu.:, Median:, 3rd Qu.:, Max.:\".split(\",\")\n",
    "    percentiles = np.round(\n",
    "        np.percentile(a=data, interpolation='midpoint', \n",
    "                      q=[0, 25, 50, 75, 100]), 4)\n",
    "    out = dict(zip(titles, percentiles))\n",
    "    mean = np.round(np.mean(a = data) )\n",
    "    out.update({\" Mean:\" : mean})\n",
    "    for k, val in out.items():\n",
    "        print(k, val)\n",
    "    #return out\n",
    "\n",
    "def table(data, prob=False):\n",
    "    \"\"\"Count unique values\n",
    "    return a tuple(value, count)\"\"\"\n",
    "    vals_counts = np.unique(ar=data, return_counts=True)\n",
    "    if prob:\n",
    "        density = vals_counts[1] / len(data)\n",
    "        vals_counts = (vals_counts[0], density)\n",
    "    out = tuple(zip(*vals_counts))\n",
    "    return out\n"
   ]
  },
  {
   "cell_type": "code",
   "execution_count": null,
   "metadata": {
    "collapsed": true
   },
   "outputs": [],
   "source": []
  },
  {
   "cell_type": "markdown",
   "metadata": {},
   "source": [
    "## Introduction \n",
    "\n",
    "In addition to being able to generate random variables, we should also be able to apply these simulation methods to solve more complex problems. We'll begin with Monte Carlo Integration methods.\n",
    "\n",
    "Topics to be covered:\n",
    "\n",
    "1. Classic Monte Carlo Integration\n",
    "\n",
    "2. Importance Sampling\n",
    "\n",
    "\n",
    "\n",
    "\n",
    "## Monte Carlo Integration \n",
    "\n",
    "Given a function $h(x)$ for which we wish to integrate over region $[a,b]$, $\\int_a^b h(x) dx$, we can solve this numerical problem by treating it a as a random variable we are trying to find the expectation for. Treat $X$ as a random variable with density $f(X=x)$, then the mathematical expecation of the random variable $h(X=x)$ is\n",
    "$$\n",
    "E[h(X)] = \\int_{\\mathcal{X}} h(x) f(x) dx = \\theta\n",
    "$$\n",
    "\n",
    "If a random sample $X_1, ..., X_n$ is generated from $f(x)$, an unbiased estimator of $E[h(X)]$ is the sample mean. Review: [Sample mean][1]\n",
    "\n",
    "$$\n",
    "\\displaystyle \\bar{h}_{n} = \\frac{1}{n} \\displaystyle\\sum_{i=1}^{n} h(x_i)\n",
    "$$\n",
    "\n",
    "\n",
    "## Monte Carlo Integration \n",
    "\n",
    "Suppose we have a function $h(x) = 3x^2$ for which we wish to integrate over the interval $[0, 2]$.\n",
    "\n",
    "- Can apply deterministic numerical approximation methods (see R's `integrate`) \n",
    "\n",
    "- or we could treat $x$ as a random variable, $X = x$, from a $Unif(0,2)$ whose pdf is simply $f(x) = \\frac{1}{2-0} = \\frac{1}{2}$. \n",
    "\n",
    "If we now generate some $n$ random values from $f(x)$ and evaluate them at $h(x)$, then take the mean, we'd be calculating the expected value of $h(x)$, \n",
    "$$\n",
    "\\begin{aligned}\n",
    "\\ \\theta &= \\int_0^2 h(x) dx \\\\\n",
    "\\ &= (\\frac{2 - 0}{2 - 0}) \\times \\int_0^2 h(x) dx = 2 \\times \\int_0^2 h(x) \\frac{1}{2} dx \\\\\n",
    "\\ &= 2 \\times E[h(X)] = 2 \\times \\int_{- \\infty}^{\\infty} h(x) f(x) dx \\\\\n",
    "\\ &\\approx  2 \\times \\frac{1}{n} \\displaystyle\\sum_{i=1}^{n} h(x_i)  \\\\\n",
    "\\ &= \\hat{\\theta} \\approx \\theta\n",
    "\\end{aligned}\n",
    "$$\n",
    "\n",
    "\n",
    "\n",
    "## Monte Carlo Integration \n",
    "\n",
    "If we now simulate this, we will see we approximate the true solution $\\int_0^2h(x) dx = 8$\n",
    "\n"
   ]
  },
  {
   "cell_type": "code",
   "execution_count": 2,
   "metadata": {},
   "outputs": [
    {
     "name": "stdout",
     "output_type": "stream",
     "text": [
      "7.9936593588\n",
      "8.0\n"
     ]
    }
   ],
   "source": [
    "from scipy import integrate\n",
    "\n",
    "n = 50000\n",
    "h = lambda x: 3*x**2\n",
    "X = np.random.uniform(size=n, low = 0, high = 2)\n",
    "v = 2 * np.mean(h(X)) ## 2 * E[h(x)]\n",
    "print(v)\n",
    "\n",
    "quad_integration = integrate.quad(h, 0, 2) ## returns value and error\n",
    "print(quad_integration[0]) \n",
    "\n"
   ]
  },
  {
   "cell_type": "markdown",
   "metadata": {},
   "source": [
    "\n",
    "## Monte Carlo Integration\n",
    "\n",
    "\n",
    "Now, to generalize the method used. Given a function $h(x)$ whose integral is well defined, where we wish to evaluate at interval $a$ to $b$. Then\n",
    "\n",
    "$$\n",
    "\\begin{aligned}\n",
    "\\ \\theta &= \\int_a^b h(x) dx \\\\\n",
    "\\ &= (b - a) \\int_a^b h(x) \\frac{1}{b - a} dx \\\\\n",
    "\\ &= (b - a) \\int_a^b h(x) f(x) dx \\\\\n",
    "\\end{aligned}\n",
    "$$\n",
    "where $f(x) = \\frac{1}{b - a}$ is $Unif(a,b)$, and $x \\sim Unif(a,b)$. \n",
    "\n",
    "The algorithm to calculate $\\hat{\\theta}$ is as follows:\n",
    "\n",
    "1. Find a density $f(x)$ from which we can sample $x$ \n",
    "\n",
    "2. Generate $x_1, ..., x_n \\sim f(x)$\n",
    "\n",
    "3. Compute $(b - a) \\times \\bar{g}_{n}$, where $\\bar{g}_{n} = \\frac{1}{n} \\sum_{i = 1}^n h(x_i)$\n",
    "\n",
    "\n",
    "\n",
    "\n",
    "## Monte Carlo Integration, Variance Estimation \n",
    "\n",
    "\n",
    "Now that we can calculate an estimate of statistic $\\theta$, $\\hat{\\theta}$, we should also be able to calculate the standard error in order to build confidence intervals (CIs).\n",
    "\n",
    "The variance can be written as \n",
    "$$\n",
    "Var(x) = \\frac{1}{n} \\displaystyle\\sum_{i=1}^{n} (x_i - \\theta)^2\n",
    "$$\n",
    "\n",
    "We will use this form to calculate the variance of $\\hat{\\theta}$\n",
    "\n",
    "$$\n",
    "\\begin{aligned}\n",
    "\\ & Var(h(x_i)) \\\\\n",
    "\\ & = \\frac{1}{n} \\displaystyle\\sum_{i=1}^{n} (g(x_i) - \\hat{\\theta})^2 \\\\\n",
    "\\ & = \\sigma^2\n",
    "\\end{aligned}\n",
    "$$\n",
    "And \n",
    "$$\n",
    " \\begin{aligned}\n",
    "\\ & \\frac{\\sigma^2}{n} = \\frac{1}{n^2} \\displaystyle\\sum_{i=1}^{n} (h(x_i) - \\hat{\\theta})^2 \\\\\n",
    "\\end{aligned}\n",
    "$$\n",
    "\n",
    "\n",
    "\n",
    "## Monte Carlo Integration, Variance Estimation\n",
    "\n",
    "So, the standard error estimate is\n",
    "$$\n",
    " \\begin{aligned}\n",
    "\\ & \\frac{\\sigma}{\\sqrt{n}} = \\frac{1}{n} \\displaystyle \\sqrt{ \\sum_{i=1}^{n} (h(x_i) - \\hat{\\theta})^2 } \\\\\n",
    "\\end{aligned}\n",
    "$$\n",
    "\n",
    "which we can then use to construct 95% confidence intervals\n",
    "\n",
    "$$\n",
    "\\hat{\\theta} \\pm 1.96 \\times \\frac{\\sigma}{\\sqrt{n}}\n",
    "$$\n",
    "\n",
    "\n",
    "\n",
    "\n",
    "\n",
    "## Monte Carlo Integration, Variance Estimation \n",
    "\n",
    "We can now calculate the standard error for the former example.\n",
    "\n",
    "\n",
    "```{r}\n",
    "N = 10000 ## sample size\n",
    "h <- function(x) { 3*x^2 } ## function of interest, h(x)\n",
    "X <- runif(n = N, min = 0, max = 2)  ## samples from f(x)\n",
    "h_values <- 2 * h(X)\n",
    "\n",
    "cumMean <- function(x, n){\n",
    "  num = cumsum(x)  ## numerator\n",
    "  denom = 1:n  ## denominator\n",
    "  result = num/denom\n",
    "  return(result)\n",
    "}\n",
    "\n",
    "```\n",
    "\n",
    "\n"
   ]
  },
  {
   "cell_type": "code",
   "execution_count": 3,
   "metadata": {
    "collapsed": true
   },
   "outputs": [],
   "source": [
    "h_values = 2 * h(X)\n",
    "\n",
    "def cumMean(data):\n",
    "    m = len(data)\n",
    "    result = np.cumsum(data) / np.arange(1, m+1)\n",
    "    return result\n",
    "\n",
    "def cumSE(data):\n",
    "    m = len(data)\n",
    "    mu = np.mean(data)\n",
    "    num = np.sqrt(np.cumsum((data - mu)**2))\n",
    "    denom = range(1, m+1)\n",
    "    result = num/denom ## cummulative mean of (x_i - theta)**2\n",
    "    return result\n"
   ]
  },
  {
   "cell_type": "markdown",
   "metadata": {},
   "source": [
    "## Monte Carlo Integration, Variance Estimation "
   ]
  },
  {
   "cell_type": "code",
   "execution_count": 4,
   "metadata": {
    "collapsed": true
   },
   "outputs": [],
   "source": [
    "thetas = cumMean(h_values)\n",
    "SE = cumSE(h_values)"
   ]
  },
  {
   "cell_type": "code",
   "execution_count": 5,
   "metadata": {},
   "outputs": [
    {
     "data": {
      "image/png": "[encoded data removed]",
      "text/plain": [
       "<matplotlib.figure.Figure at 0x7fada9e23e80>"
      ]
     },
     "metadata": {},
     "output_type": "display_data"
    },
    {
     "name": "stdout",
     "output_type": "stream",
     "text": [
      " Min.: 1.6017\n",
      " 1st Qu.: 7.9506\n",
      " Median: 8.0081\n",
      " 3rd Qu.: 8.0156\n",
      " Max.: 9.7743\n",
      " Mean: 8.0\n"
     ]
    }
   ],
   "source": [
    "plt.plot(thetas)\n",
    "plt.plot(thetas + 1.96*SE, c = \"green\") ## uper CI\n",
    "plt.plot(thetas - 1.96*SE, c = 'green') ## lower CI\n",
    "plt.ylim((7, 9)) \n",
    "plt.xlim((1, n))\n",
    "plt.title(r\"$\\theta$ estimates\")\n",
    "plt.ylabel(r\"$\\hat{\\theta}$\")\n",
    "plt.xlabel(\"Samples\")\n",
    "plt.show()\n",
    "\n",
    "summary(thetas)"
   ]
  },
  {
   "cell_type": "markdown",
   "metadata": {},
   "source": [
    "\n",
    "\n",
    "The plot shows how our parameter estimate (and CI) converges closer to the true value as N (sample size) increases. If we were to have had a small sample size, say, 100, our parameter esimate would have performed poorly. But at $N = 10,000$, our estimate $\\hat{\\theta}$ performs well.\n"
   ]
  },
  {
   "cell_type": "markdown",
   "metadata": {},
   "source": [
    "\n",
    "## Strong Law of Large Numbers \n",
    "\n",
    "Monte Carlo Integration relies on the Strong Law of Large Numbers (SLLN) to approximate $E_f[h(X)] = \\int_{\\mathcal{X}} h(x) f(x) dx$. The method is to generate a sample $\\mathbf{X} = (x_1, ..., x_n)$ from pdf $f(x)$ and use the empirical average of $h(x)$ as an approximation. This Monte Carlo estimate *almost surely* converges to $E_f[h(X)]$ by the SLLN. \n",
    "\n",
    "\n",
    "For a given random sample $X_1, ..., X_n$ the empirical mean, $\\bar{X}$, can be used as an estimator for $E[x] = \\mu$, and given a *sufficiently* large sample, this estimate approximates the true expectation $\\mu$ almost certainly with a probability value of 1. Or more formally, \n",
    "\n",
    "$$\n",
    "P(\\lim_{n \\to \\infty} \\bar{X} \\to E[X]) = 1 \n",
    "$$\n",
    "\n",
    "\n",
    "See reference: [Strong Law of Large Numbers][2]\n",
    "\n",
    "\n",
    "\n",
    "## Central Limit Theorem \n",
    "\n",
    "The CLT implies that for our Monte Carlo estimator $\\hat{\\theta}$,\n",
    "\n",
    "$$\n",
    "\\frac{\\hat{\\theta} - E[\\hat{\\theta}]}{\\sqrt{Var(\\hat{\\theta})}} \\sim N(0,1)\n",
    "$$\n",
    "and by the Strong Law of Large Numbers this happens almost surely as $n \\to \\infty$. See: [Central Limit Theorem](http://www.math.uah.edu/stat/sample/CLT.html)\n",
    "\n",
    "$$\n",
    "\\hat{\\theta} \\sim N(\\theta, \\sigma^2)\n",
    "$$\n",
    "\n",
    "The Weak Law of Large Numbers then states that for any margine of error $\\epsilon$, the average almost surely do not deviate further than $\\epsilon$ away from the true $\\theta$, \n",
    "$$\n",
    "\\lim_{n \\to \\infty} P(| \\hat{\\theta} - \\theta | > \\epsilon) = 0\n",
    "$$\n",
    "\n",
    "The SLLN speaks to convergence to the expected value, where the WLLN speaks to convergence in probability.\n",
    "\n",
    "\n"
   ]
  },
  {
   "cell_type": "markdown",
   "metadata": {},
   "source": [
    "\n",
    "\n",
    "##  Normal p-value estimate for unbounded region  \n",
    "\n",
    "\n",
    "We will next explore how to generate $N(\\mu, \\sigma)$ p-values using a $Unif(0,x)$ distribution. \n",
    "\n",
    "$$\n",
    "\\Phi(x) = P(X \\leq x) = \\int_{-\\infty}^{x} \\frac{1}{\\sqrt{2 \\pi} \\sigma}\\ e^{(t - \\mu)^2/ 2 \\sigma} dx\n",
    "$$\n",
    "\n",
    "Now, suppose that $\\mu = 0$ and $\\sigma = 1$, such that we are only dealing with the standard Normal CDF. We are interested in calculating a Monte Carlo estimate for $\\Phi(x)$\n",
    "\n",
    "$$\n",
    "\\Phi(x) = P(X \\leq x) = \\int_{-\\infty}^{x} \\frac{1}{\\sqrt{2 \\pi}}\\ e^{t^2/ 2} dx\n",
    "$$\n",
    "\n",
    "\n",
    "\n",
    "\n",
    "##  Normal p-value estimate for unbounded region  \n",
    "\n",
    "Our first problem is dealing with bounds $(-\\infty, x)$. We cannot direcly apply our MC integration algorithm directly because the integral range $(-\\infty, x)$\n",
    "\n",
    "A solution around this issue is breaking up this problem into two sections exploiting the Normal distribution's symmetry around $\\mu$. \n",
    "\n",
    "The two sections will be $(-\\infty, 0)$ and $(0, x)$. \n",
    "\n",
    "With the given symmetry property, we know that any random variable from $N(\\mu, \\sigma)$ will have an equal probability of being on the positive end or negative. Thus, let's set $P(X \\leq 0) = 1/2$. Now, all we need to concern ourselves with is the region $(0, x)$. \n",
    "\n",
    "Now, assuming $x > 0$, then we use the Monte Carlo estimator as is \n",
    "$$\n",
    "\\begin{aligned}\n",
    "\\Phi(x) &= P(X \\leq x) \\\\\n",
    "\\ & = P(X \\leq 0) + \\int_{0}^{x} \\frac{1}{\\sqrt{2 \\pi}}\\ e^{t^2/ 2} dx \\\\\n",
    "\\ & = \\frac{1}{2} + \\int_{0}^{x} \\frac{1}{\\sqrt{2 \\pi}}\\ e^{t^2/ 2} dx \\\\\n",
    "\\end{aligned}\n",
    "$$\n",
    "\n"
   ]
  },
  {
   "cell_type": "markdown",
   "metadata": {
    "collapsed": true
   },
   "source": [
    "##  Normal p-value estimate for unbounded region  \n",
    "\n",
    "However, if $x < 0$ such as $x = -1$, then we would use the symmetry property of the Normal distribution to calculate $\\Phi(-1)$ by $1 - \\Phi(-(-1)) = 1 - \\Phi(1)$\n"
   ]
  },
  {
   "cell_type": "code",
   "execution_count": 7,
   "metadata": {
    "collapsed": true
   },
   "outputs": [],
   "source": [
    "from scipy import stats\n",
    "dnorm = lambda x: stats.norm.pdf(x, loc = 0, scale = 1) ## standard normal pdf\n",
    "x = np.linspace(start=-10, stop=10, num=1000)\n",
    "\n",
    "out = dnorm(x) \n",
    "out[x > -1] = 0"
   ]
  },
  {
   "cell_type": "code",
   "execution_count": 8,
   "metadata": {},
   "outputs": [
    {
     "data": {
      "image/png": "[encoded data removed]",
      "text/plain": [
       "<matplotlib.figure.Figure at 0x7fada416aa20>"
      ]
     },
     "metadata": {},
     "output_type": "display_data"
    }
   ],
   "source": [
    "fig, ax = plt.subplots() ## needed to add polygon\n",
    "plt.plot(x, dnorm(x))\n",
    "plt.ylim((0, 0.45))\n",
    "plt.xlim((-7, 7))\n",
    "p = plt.Polygon(xy=list(zip(x, out)), facecolor='lightblue', edgecolor='0.1') ## add polygon\n",
    "ax.add_patch(p)\n",
    "plt.title(r\"$\\Phi(X)$\")\n",
    "plt.show()"
   ]
  },
  {
   "cell_type": "code",
   "execution_count": 9,
   "metadata": {},
   "outputs": [
    {
     "data": {
      "image/png": "[encoded data removed]",
      "text/plain": [
       "<matplotlib.figure.Figure at 0x7fada4188828>"
      ]
     },
     "metadata": {},
     "output_type": "display_data"
    }
   ],
   "source": [
    "x = np.linspace(start=-10, stop=10, num=1000)\n",
    "\n",
    "out = dnorm(x) \n",
    "out[x < 1] = 0\n",
    "\n",
    "fig, ax = plt.subplots() ## needed to add polygon\n",
    "plt.plot(x, dnorm(x))\n",
    "plt.ylim((0, 0.45))\n",
    "plt.xlim((-7, 7))\n",
    "p = plt.Polygon(xy=list(zip(x, out)), facecolor='lightblue', edgecolor='0.1') ## add polygon\n",
    "ax.add_patch(p)\n",
    "plt.title(r\"1 - $\\Phi(-X)$\")\n",
    "plt.show()"
   ]
  },
  {
   "cell_type": "markdown",
   "metadata": {},
   "source": [
    "##  Normal p-value estimate for unbounded region  \n",
    "\n",
    "For example, if $x = 2.5$, then we would calculate a MC estimate for $\\Phi(X \\leq 2)$.\n"
   ]
  },
  {
   "cell_type": "code",
   "execution_count": 10,
   "metadata": {},
   "outputs": [
    {
     "data": {
      "image/png": "[encoded data removed]",
      "text/plain": [
       "<matplotlib.figure.Figure at 0x7fada409ac18>"
      ]
     },
     "metadata": {},
     "output_type": "display_data"
    }
   ],
   "source": [
    "x = np.linspace(start=-10, stop=10, num=1000)\n",
    "\n",
    "out = dnorm(x) \n",
    "out[x >=2 ] = 0\n",
    "\n",
    "fig, ax = plt.subplots() ## needed to add polygon\n",
    "plt.plot(x, dnorm(x))\n",
    "plt.ylim((0, 0.45))\n",
    "plt.xlim((-7, 7))\n",
    "p = plt.Polygon(xy=list(zip(x, out)), facecolor='lightblue', edgecolor='0.1') ## add polygon\n",
    "ax.add_patch(p)\n",
    "plt.title(r\"$\\Phi(X \\leq 2.5)$\")\n",
    "plt.show()"
   ]
  },
  {
   "cell_type": "markdown",
   "metadata": {},
   "source": [
    "\n",
    "##  Normal p-value estimate for unbounded region\n",
    "\n",
    "\n",
    "Suppose we'd like to calculate $\\Phi(2.5) = P(X \\leq 2.5)$\n",
    "\n",
    "```{r}\n",
    "N = 10000\n",
    "x = 2.5\n",
    "t = runif(N, 0, 2.5)\n",
    "p = 0.5 + 1/sqrt(2*pi) * mean(x * exp(-t^2 / 2))\n",
    "\n",
    "print(p)\n",
    "print(x = pnorm(q = 2.5, lower.tail = TRUE))\n",
    "\n",
    "```\n"
   ]
  },
  {
   "cell_type": "code",
   "execution_count": 11,
   "metadata": {},
   "outputs": [
    {
     "name": "stdout",
     "output_type": "stream",
     "text": [
      "0.993684607048\n",
      "0.993790334674\n"
     ]
    }
   ],
   "source": [
    "n = 10**6\n",
    "x = 2.5\n",
    "t = np.random.uniform(size=n, low=0, high=2.5)\n",
    "p = 0.5 + 1/np.sqrt(2*np.pi) * np.mean(x * np.exp(-t**2 / 2))\n",
    "\n",
    "print(p)\n",
    "print(stats.norm.cdf(x=2.5))"
   ]
  },
  {
   "cell_type": "markdown",
   "metadata": {},
   "source": [
    "\n",
    "##  Normal p-value estimate for unbounded region \n",
    "\n",
    "In the above example, we simulated from a $Unif(0,2.5)$ distribution. But if we'd like to maintain a general algorithm from which we are interested in generating all samples from $Unif(0,1)$ distribution, then we'd make a slight variable change. In order to calculate $P(X \\leq x) = \\theta$,\n",
    "$$\n",
    "\\begin{aligned}\n",
    "\\theta & = \\displaystyle \\int_{-\\infty}^{x} \\frac{1}{\\sqrt{2 \\pi}} e^{-t^2/2} dt \\\\ \n",
    "\\ & = \\displaystyle \\frac{1}{2} + \\int_{0}^{x} \\frac{1}{\\sqrt{2 \\pi}} e^{-t^2/2} \\times \\frac{x}{x} \\times dt \\\\ \n",
    "\\ & = \\displaystyle \\frac{1}{2} + \\int_{0}^{1} x \\frac{1}{\\sqrt{2 \\pi}} e^{-t^2/2} \\frac{1}{x}dt \\\\ \n",
    "\\end{aligned}\n",
    "$$\n",
    "\n",
    "\n",
    "##  Normal p-value estimate for unbounded region \n",
    "\n",
    "and let $Y = t/x \\to t = xY$ such that\n",
    "\n",
    "$$\n",
    "\\begin{aligned}\n",
    "\\ & = \\displaystyle \\frac{1}{2} + \\frac{1}{\\sqrt{2 \\pi}} \\int_{0}^{1} x e^{-(x \\times Y)^2/2} \\frac{1}{x} dy \\\\\n",
    "\\ & \\approx \\displaystyle \\frac{1}{2} + \\frac{1}{\\sqrt{2 \\pi}} \\frac{1}{N} \\sum_{i=1}^{N} x_i  e^{-(x_i \\times Y)^2/2} \\\\\n",
    "\\ & = \\hat{\\theta}\n",
    "\\end{aligned}\n",
    "$$\n",
    "for $x > 0$ and $x_i \\sim Unif(0,1)$.\n",
    "\n",
    "\n",
    "\n",
    "\n",
    "\n",
    "\n",
    "## Calculating N(0,1) tail probabilities \n",
    "\n",
    "Calculating tail probabilities can be tricky. \n",
    "Suppose $Z \\sim N(0,1)$, then $\\Phi(x) = P(Z \\geq x) = E[I_{Z \\geq x}] \\approx \\frac{1}{N}\\sum_{i=1}^N I_{z_i \\geq x}$ where $I$ is an indicator function returning 1 if the condition is satisfied, else 0.\n",
    "\n",
    "\n",
    "Variance estimation will be problematic for rare events like these\n",
    "\n"
   ]
  },
  {
   "cell_type": "code",
   "execution_count": 12,
   "metadata": {},
   "outputs": [
    {
     "name": "stdout",
     "output_type": "stream",
     "text": [
      "0.0006\n",
      "6\n"
     ]
    }
   ],
   "source": [
    "n = 10000\n",
    "x = 3.2\n",
    "z = np.random.normal(size=n)\n",
    "p_val = np.mean(z >= x)\n",
    "print(p_val)\n",
    "print(sum(z > x)) ## few samples with z > x"
   ]
  },
  {
   "cell_type": "markdown",
   "metadata": {},
   "source": [
    "\n",
    "## Importance Sampling  \n",
    "\n",
    "Our Monte Carlo integration algorithm looks like\n",
    "$$\n",
    "\\begin{aligned}\n",
    "E[h(x)] & = \\int_{\\mathcal{X}} h(x) f(x) dx = \\theta\n",
    "\\end{aligned}\n",
    "$$\n",
    "Where $f$ is generally a uniform density. However, this can be costly if we need to calculate the tail probabilities. For example, say $Z \\sim N(0,1)$ and we wish to calculate $P(Z > 4.5)$. \n",
    "\n",
    "In order to obtain a stable result using a uniform distribution for $f$ we would need to simulate many, many samples. This can be time and computationally costly, and this process can be improved. \n",
    "\n",
    "Solution: we can weight samples $x$ by density $g$ such that this would improve results for tail probabilities. \n",
    "\n",
    "\n",
    "\n",
    "## Importance Sampling  \n",
    "\n",
    "We can rewrite our previous result as \n",
    "$$\n",
    "\\begin{aligned}\n",
    "E[h(x)] & = \\int_{\\mathcal{X}} h(x) f(x) dx \\\\\n",
    "\\ & = \\int_{\\mathcal{X}} h(x) \\frac{f(x)}{g(x)} g(x) dx \\\\\n",
    "\\ & \\displaystyle E[\\frac{h(x) f(x)}{g(x)}] \\\\\n",
    "\\ & = \\theta\n",
    "\\end{aligned}\n",
    "$$\n",
    "\n",
    "\n",
    "\n",
    "##  Calculating tail probabilities  \n",
    "\n",
    "\n",
    "Given $x \\sim N(0,1)$ with a sample of size $N$, the approximation of \n",
    "$$\n",
    "\\begin{aligned}\n",
    "\\Phi(x) = \\displaystyle \\int^{\\infty}_x \\frac{1}{\\sqrt{2 \\pi}} e^{-t^2/2}  dt\n",
    "\\end{aligned}\n",
    "$$\n",
    "By Monte Carlo integration we approximate $P(X \\geq x)$ by \n",
    "$$\n",
    "\\begin{aligned}\n",
    "\\Phi(x) = \\displaystyle \\frac{1}{N} \\sum_{i = 1}^N I_{\\{t_i \\geq x\\}}\n",
    "\\end{aligned}\n",
    "$$\n"
   ]
  },
  {
   "cell_type": "code",
   "execution_count": null,
   "metadata": {
    "collapsed": true
   },
   "outputs": [],
   "source": []
  },
  {
   "cell_type": "code",
   "execution_count": 13,
   "metadata": {},
   "outputs": [
    {
     "name": "stdout",
     "output_type": "stream",
     "text": [
      "1\n",
      "1e-05\n",
      "3.16712418331e-05\n"
     ]
    }
   ],
   "source": [
    "n = 10**5\n",
    "x = 4\n",
    "t = np.random.normal(n) >= x ## looking at the lower tail\n",
    "p_val = np.sum(t)/n\n",
    "print(np.sum(t))\n",
    "print(p_val)\n",
    "\n",
    "## compare with\n",
    "print(1 - stats.norm.cdf(x=x))"
   ]
  },
  {
   "cell_type": "markdown",
   "metadata": {},
   "source": [
    "In the above example, with $N = 10,000$ samples, we saw only 1 observation with $x \\geq 4$. To have a stable answer (and variance), we will need to see more samples at this tail. Thus, we turn to importance sampling.\n",
    "\n",
    "\n",
    "\n",
    "##  Calculating tail probabilities \n",
    "\n",
    "For an instrumental importance density, we will need to use a density with a long and heavy tail. Some examples of heavy-tailed distributions are Student's t, Chi-squared and exponential density. We will use the latter for its simplicity and memoryless property.\n",
    "\n",
    "To continue with the above example, we'll first define our functions $h$, $f$, and $g$ to be 1, $N(0,1)$ and $Exp(1)$ truncated at 4. Our instrumental importance function $g$ will be of the form $p(x | x \\geq 4 ) = p(x)/p(x \\geq 4) = p(x-4)$. See below a workout of the math, and this link for more information of the [memoryless property](http://pages.cs.wisc.edu/~dsmyers/cs547/lecture_9_memoryless_property.pdf)\n",
    "$$\n",
    "\\begin{aligned}\n",
    "\\ g(x) & =  \\displaystyle \\frac{e^{-x} }{\\int_4^{\\infty} e^{-x} dx} \\\\\n",
    "\\ & = e^{-x} \\frac{1}{-e^{-\\infty} + e^{-4}} \\\\\n",
    "\\ & = e^{-x} \\frac{1}{e^{-4}} \\\\\n",
    "\\ & = e^{-x} e^{4} \\\\\n",
    "\\ & = e^{-x+4}\\\\\n",
    "\\ & = e^{-(x-4)}\\\\\n",
    "\\end{aligned}\n",
    "$$\n",
    "\n",
    "\n",
    "##  Calculating tail probabilities \n",
    "\n",
    "\n",
    "$$\n",
    "\\begin{aligned}\n",
    "\\ \\frac{h(x_i) f(x_i)}{g(x_i)} & = \\frac{1}{\\sqrt{2 \\pi}} e^{-x_i^2 / 2} \\times e^{-(x_i - 4)} \\\\\n",
    "\\ & = \\frac{1}{\\sqrt{2 \\pi}} e^{-x_i^2 / 2 \\ -\\ (x_i - 4)} \\\\\n",
    "\\ & = \\frac{1}{\\sqrt{2 \\pi}} e^{-( x_i^2 / 2 \\ + \\ x_i - 4)} \\\\\n",
    "\\end{aligned}\n",
    "$$\n",
    "\n",
    "Finally, we can now begin to generate samples from $g$, and use the arithmetic mean to calculate our p-value.\n",
    "\n",
    "$$\n",
    "\\begin{aligned}\n",
    "\\displaystyle E \\left[\\frac{h(x) f(x)}{g(x)} \\right] & = \\frac{1}{N} \\times \\frac{1}{\\sqrt{2 \\pi}} \\sum_{i = 1}^N e^{-( x_i^2 / 2 \\ + \\ x_i - 4)} \\\\\n",
    "\\end{aligned}\n",
    "$$\n",
    "\n"
   ]
  },
  {
   "cell_type": "markdown",
   "metadata": {
    "collapsed": true
   },
   "source": [
    "##  Calculating tail probabilities  { .selectable }\n",
    " \n",
    "```{r}\n",
    "N = 10^4 \n",
    "t = 4\n",
    "X = rexp(N) + t\n",
    "w = dnorm(X)/dexp(X - t) ## importance sampling weights dnorm/dexp(x-4)\n",
    "\n",
    "theta = mean(w)\n",
    "cumTheta = cumsum(w) / 1:N\n",
    "\n",
    "```\n",
    "\n",
    "\n",
    "\n",
    "##  Calculating tail probabilities  { .selectable }\n",
    "\n",
    "```{r, fig.height=3, fig.width=5}\n",
    "plot(cumTheta, type = \"l\", main = \"N(0,1) tail probabilities\",\n",
    "     xlab = \"Number of samples\", ylab = \"p(X>=4)\",\n",
    "     ylim = c(2.5 * 10^(-5), 4 * 10^(-5)))\n",
    "abline(a = pnorm(t, lower.tail = FALSE), b = 0, col = \"blue\")\n",
    "\n",
    "## Exercise: Compare the results\n",
    "#print(pnorm(t, lower.tail = FALSE))\n",
    "#print(theta) \n",
    "\n",
    "```\n",
    "\n"
   ]
  },
  {
   "cell_type": "code",
   "execution_count": 17,
   "metadata": {},
   "outputs": [],
   "source": [
    "n = 1000\n",
    "t = 4\n",
    "X = np.random.exponential(size=n, scale=1) + t\n",
    "w = stats.norm.pdf(X)/stats.expon.pdf(X - t) ## importance sampling weights dnorm/dexp(x-4)\n",
    "\n",
    "theta = np.mean(w)\n",
    "cumTheta = np.cumsum(w) / range(1, n+1)"
   ]
  },
  {
   "cell_type": "code",
   "execution_count": 20,
   "metadata": {},
   "outputs": [
    {
     "data": {
      "image/png": "[encoded data removed]",
      "text/plain": [
       "<matplotlib.figure.Figure at 0x7fada3ee4940>"
      ]
     },
     "metadata": {},
     "output_type": "display_data"
    }
   ],
   "source": [
    "plt.plot(cumTheta)\n",
    "plt.title(\"N(0,1) tail probabilities\")\n",
    "plt.ylabel(r\"$P(X \\geq 4)$\")\n",
    "plt.xlabel(\"samples\")\n",
    "plt.hlines(colors='blue', y= 1- stats.norm.cdf(x=t), xmin = 0, xmax = n)\n",
    "plt.show()"
   ]
  },
  {
   "cell_type": "markdown",
   "metadata": {},
   "source": [
    "\n",
    "##  Calculating Expectation of Laplace Distribution \n",
    "\n",
    "Suppose we have a random variable $X \\sim f(x | \\mu, b)$, which is the Laplace or Double Exponential distribution.\n",
    "$$\n",
    "f(x) = \\frac{1}{2b} exp\\{ - \\ \\frac{| x - a| }{b} \\}, \\ x \\in (0, \\infty)\n",
    "$$\n",
    "\n",
    "If we let $a = 0$ and $b = 1$, then $f(x) = \\frac{1}{2} e^{-| x |}$.\n",
    "\n",
    "Then, if we would want to calculate $E[X^2]$, then we would need to solve the integral. \n",
    "\n",
    "$$\n",
    "\\begin{aligned}\n",
    "E[X^2] & = \\displaystyle \\int_{-\\infty}^{\\infty} x^2 f(x) dx \\\\\n",
    "\\ & = \\int_{-\\infty}^{\\infty} x^2 \\frac{1}{2b} e^{ - | x| } dx \\\\\n",
    "\\end{aligned}\n",
    "$$\n",
    "\n",
    "\n",
    "##  Calculating Expectation of Laplace Distribution  \n",
    "\n",
    "Suppose (for whatever reason) we are unable to generate samples from an exponential distribution. But (for whatever reason) we are able to generate samples $x_i \\sim N(0,\\sigma)$. Then, we could use $N(0,\\sigma)$ as our instrumental density to sample from and use the importance weights $w_i = f(x_i)/g(x_i)$ to improve the convergence to $f$. Let's try $\\sigma = 4$\n",
    "\n"
   ]
  },
  {
   "cell_type": "code",
   "execution_count": 33,
   "metadata": {},
   "outputs": [],
   "source": [
    "dlaplace = lambda v: (1/2) * np.exp(-1 * np.abs(v))\n",
    "dnorm = stats.norm.pdf\n",
    "\n",
    "x = np.linspace(start=-10, stop=10, num=1000)"
   ]
  },
  {
   "cell_type": "code",
   "execution_count": 64,
   "metadata": {},
   "outputs": [
    {
     "data": {
      "image/png": "[encoded data removed]",
      "text/plain": [
       "<matplotlib.figure.Figure at 0x7fada3dbc390>"
      ]
     },
     "metadata": {},
     "output_type": "display_data"
    }
   ],
   "source": [
    "plts = plt.plot(x, dlaplace(x))\n",
    "#plt.plot(x, dnorm(x, loc = 0, scale = 1), linestyle = '--')\n",
    "linestyles = ['-', '--', '-.', ':']\n",
    "for i, ls in enumerate(linestyles):\n",
    "    tmp, = plt.plot(x, dnorm(x, loc = 0, scale = i+1))\n",
    "    plts.append(tmp)\n",
    "plt.title(\"Double Exponential and Candidates\")\n",
    "lines = [\"Double Exponential\"] + [\"Normal(0, {0})\".format(i) for i in range(1,5)]\n",
    "plt.legend(plts, lines)\n",
    "plt.show()\n"
   ]
  },
  {
   "cell_type": "markdown",
   "metadata": {},
   "source": [
    "\n",
    "##  Calculating Expectation of Laplace Distribution  \n",
    "\n",
    "Since we need to have samples that cover the entire domain of the Laplace distribution, it makes sense to set $\\sigma$ higher than 1. Otherwise, we would need  many, many samples to obtain a stable answer.\n",
    "\n",
    "```{r}\n",
    "N = 10000\n",
    "x = rnorm(N)\n",
    "w = f(x)/dnorm(x, sd = 1) \n",
    "theta <- mean(x = x^2 * w)\n",
    "print(theta)\n",
    "\n",
    "\n",
    "x = rnorm(N, sd = 2)\n",
    "w = f(x)/dnorm(x, sd = 2) \n",
    "theta <- mean(x = x^2 * w)\n",
    "print(theta)\n",
    "\n",
    "```\n",
    "\n"
   ]
  },
  {
   "cell_type": "code",
   "execution_count": 77,
   "metadata": {},
   "outputs": [
    {
     "name": "stdout",
     "output_type": "stream",
     "text": [
      "1.80221256661\n",
      "1.97559524068\n",
      "1.99198878587\n"
     ]
    }
   ],
   "source": [
    "n = 60000\n",
    "## sd = 1\n",
    "x = np.random.normal(size = n, loc = 0, scale = 1)\n",
    "w = dlaplace(x) / dnorm(x, scale=1)\n",
    "theta1 = np.mean(x**2 * w)\n",
    "print(theta1)\n",
    "\n",
    "## sd = 2\n",
    "x = np.random.normal(size = n, loc = 0, scale = 2)\n",
    "w = dlaplace(x) / dnorm(x, scale=2)\n",
    "theta2 = np.mean(x**2 * w)\n",
    "print(theta2)\n",
    "\n",
    "\n",
    "## sd = 4\n",
    "x = np.random.normal(size = n, loc = 0, scale = 4)\n",
    "w = dlaplace(x) / dnorm(x, scale=4)\n",
    "theta2 = np.mean(x**2 * w)\n",
    "print(theta2)\n"
   ]
  },
  {
   "cell_type": "markdown",
   "metadata": {},
   "source": [
    "\n",
    "##  Calculating Expectation of Laplace Distribution  \n",
    "\n",
    "\n",
    "Now to compare this using samples generated from an $Exp(1)$ distribution. We generate a double exponential from an exponential distribution by generating $N$ random variables from $Exp(1)$ then splitting up the distribution (randomly & evenly in approximately half) between the left and right sides of $\\mu = 0$. Our importance weights in this case would just be $w_i = 1$. See reference [Double Exponential](http://www.itl.nist.gov/div898/handbook/eda/section3/eda366c.htm)\n",
    "\n",
    "\n",
    "Python's `Numpy` module has a laplace distribution we can sample directly from.\n"
   ]
  },
  {
   "cell_type": "code",
   "execution_count": 82,
   "metadata": {},
   "outputs": [
    {
     "name": "stdout",
     "output_type": "stream",
     "text": [
      "2.00708737286\n"
     ]
    }
   ],
   "source": [
    "laplace_samples = np.random.laplace(size=n, loc=0, scale=1)\n",
    "print(np.mean(laplace_samples**2))"
   ]
  },
  {
   "cell_type": "markdown",
   "metadata": {},
   "source": [
    "Using a candidate distribution with sd = 4 results in a similar answer to sampling directly from the laplace distribution"
   ]
  },
  {
   "cell_type": "markdown",
   "metadata": {},
   "source": [
    "\n",
    "## Importance Sampling Resampling  \n",
    "\n",
    "\n",
    "Sampling Importance Resampling (SIR) simulates random variables approximately from the target distribution. SIR is based upon the notion of importance sampling and nonparametric bootstrapping. \n",
    "\n",
    "Briefly, importance sampling proceeds by sampling from an importance sampling distribution $g$, where $g$ is the envelope or instrumental distribution. If needed, each point in the sample is weighted to correct the sampling porbabilities so that the weighted sample can be related to the target density $f$. \n",
    "\n",
    "As seen previously, the weighted sample can be used to estimate expectations under $f$.\n",
    "\n",
    "\n",
    "## Importance Sampling Resampling  \n",
    "\n",
    "For the target density $f$, the weights used to correct sampling probabilities are called the *standardized importance weights*. Since the initial weights $w_i = f(x_i)/g(x_i)$ to not sum to 1, we have to normalize them and thus we obtain\n",
    "$$\n",
    "\\begin{aligned}\n",
    "\\displaystyle w^*_i & = \\frac{w_i}{\\sum_{i = 1}^n w_i} \\\\\n",
    "\\ \\displaystyle & = \\frac{f(x_i)/g(x_i)}{\\sum_{i = 1}^n f(x_i)/g(x_i)} \\\\\n",
    "\\end{aligned}\n",
    "$$\n",
    "for a sample of random variables $x_1, ..., x_n \\sim g(x)$.  \n",
    "\n",
    "\n",
    "## Importance Sampling Resampling \n",
    "\n",
    "We may view importance sampling as approximating $f$ by the discrete distribution having mass $w_i$ on each observed sample point $x_i$. The SIR algorithm can be described as follows\n",
    "\n",
    "1. Sample $x_1, ..., x_n \\sim g(x)$\n",
    "\n",
    "2. Calculate the standardized importance weights $w^*_i = \\displaystyle \\frac{f(x_i)/g(x_i)}{\\sum_{i = 1}^n f(x_i)/g(x_i)}$\n",
    "\n",
    "3. Resample $y_1, ..., y_n$ with replacement with probability $w_i$ (or $w^*_i$).\n",
    "\n",
    "A random variable $X$ drawn with the SIR algorithm has a distribution that converges to $f$ as $m \\to \\infty$. \n",
    "\n",
    "\n",
    "This method introduces some bias to the estimate we are trying to calculate, but for large samples, it is usually negligible.\n",
    "\n"
   ]
  },
  {
   "cell_type": "code",
   "execution_count": null,
   "metadata": {
    "collapsed": true
   },
   "outputs": [],
   "source": []
  }
 ],
 "metadata": {
  "kernelspec": {
   "display_name": "Python 3",
   "language": "python",
   "name": "python3"
  },
  "language_info": {
   "codemirror_mode": {
    "name": "ipython",
    "version": 3
   },
   "file_extension": ".py",
   "mimetype": "text/x-python",
   "name": "python",
   "nbconvert_exporter": "python",
   "pygments_lexer": "ipython3",
   "version": "3.6.1"
  }
 },
 "nbformat": 4,
 "nbformat_minor": 2
}
