{
 "cells": [
  {
   "cell_type": "markdown",
   "metadata": {},
   "source": [
    "# Intro to Bootstrap"
   ]
  },
  {
   "cell_type": "code",
   "execution_count": 3,
   "metadata": {},
   "outputs": [
    {
     "name": "stdout",
     "output_type": "stream",
     "text": [
      "now importing: \n",
      "1. numpy as np \n",
      "2. matplotlib.pyplot as plt\n",
      "3. from scipy stats\n",
      "\n"
     ]
    }
   ],
   "source": [
    "from prereqs import *"
   ]
  },
  {
   "cell_type": "markdown",
   "metadata": {},
   "source": [
    "\n",
    "## Bootstrap \n",
    "\n",
    "Bootstrap methods are a class of Monte Carlo methods known as nonparametric Monte Carlo. Bootstrap methods in simple terms are methods of *resampling* observed data to estimate the CDF from which the observed data is supposed to have originate from. \n",
    "\n",
    "Suppose we observe *independent* samples $x_1, ..., x_n$ from pdf/pmf $f$, and whose CDF $F$ is unobservable. Well, given that $X = (x_1, ..., x_n)^T$ originates from $F$, we can use $X$ to generate the empirical CDF $F_n$ which is itself an estimate of $F$. \n",
    "\n",
    "$$\n",
    "F_n \\to F \\text{ as } n \\to \\infty\n",
    "$$\n",
    "\n",
    "If we sample (with replacement) another set of $n$ observations from $F_n$, we will have $X^* = (x_1^*, ..., x_n^*)^T$. This new sample $X^*$ can then generate another empirical CDF, $F^*_n$ which is another estimate of $F$. \n",
    "\n",
    "That is, $F^*_n$ is a bootstrap estimator of $F$. We can continue this process of resampling with replacement to obtain samples $X^*_1,X^*_2, ..., X^*_B$ and $F^*_{n,1}, F^*_{n,2}, ..., F^*_{n,B}$.\n",
    "\n",
    "\n",
    "\n",
    "## Bootstrap \n",
    "\n",
    "In addition to estimating the theoretical CDF $F$, there may be a statistic of interest $\\theta$ (e.g. mean). We can use bootstrap methods to calculate an empirical distribution of $\\theta$. \n",
    "\n",
    "From our original sample $X$ we can calculate estimate $\\hat{\\theta}$. Similarly, using the bootstrap samples we can also  calcualte estimates for $\\theta$: $\\hat{\\theta}^*_1, ..., \\hat{\\theta}^*_B$.\n",
    "\n",
    "We can also calculate Bias and make confidence intervals for our estimates.\n",
    "\n",
    "\n",
    "## Bootstrap Algorithm \n",
    "\n",
    "A simple bootstrap algorithm for *independent* samples $X = (x_1, ..., x_n)^T$ is:\n",
    "\n",
    "To generate *B* bootstrap samples, for *b* in 1, ..., *B* do\n",
    "\n",
    "1. Sample $x_1, ..., x_n$ with replacement to create sample set $X^*_b$. Each observation $x_i$ has a probability of *1/n* of being in the new sample.\n",
    "\n",
    "2. For $X^*_b$ calculate $\\hat{\\theta}^*_b$\n",
    "\n",
    "\n",
    "\n",
    "## Bootstrap Example \n",
    "\n",
    "Calculate the bootstrap mean distribution for `mpg` from the `mtcars` R data set. You will need to pull the data set down from the web, so we will use pandas to do this.\n",
    "\n",
    "If you don't have pandas install run: \n",
    "- `pip install pandas` or \n",
    "- `conda install pandas` (if you have Anaconda distribution)"
   ]
  },
  {
   "cell_type": "code",
   "execution_count": 1,
   "metadata": {
    "collapsed": true
   },
   "outputs": [],
   "source": [
    "import pandas as pd\n",
    "mtcars = pd.read_csv(\"https://raw.githubusercontent.com/vincentarelbundock/Rdatasets/master/csv/datasets/mtcars.csv\", \n",
    "                     index_col = 0)\n",
    "mtcars.head()\n",
    "mpg = mtcars.mpg"
   ]
  },
  {
   "cell_type": "code",
   "execution_count": 5,
   "metadata": {
    "collapsed": true
   },
   "outputs": [],
   "source": [
    "n = mtcars.shape[0]\n",
    "B = 10000 ## number of bootstrap samples\n",
    "results = [] ## list to hold results\n",
    "for i in range(B):\n",
    "    i = np.random.choice(a = range(n), size = n, replace = True) ## sample with replacement\n",
    "    tmp = mpg[i]\n",
    "    thetaHat = np.mean(tmp)\n",
    "    results.append(thetaHat)\n",
    "   "
   ]
  },
  {
   "cell_type": "raw",
   "metadata": {},
   "source": []
  },
  {
   "cell_type": "code",
   "execution_count": 6,
   "metadata": {},
   "outputs": [
    {
     "data": {
      "image/png": "[encoded data removed]",
      "text/plain": [
       "<matplotlib.figure.Figure at 0xb916780>"
      ]
     },
     "metadata": {},
     "output_type": "display_data"
    }
   ],
   "source": [
    "## histogram default to `doane` algorithm for bins, but here i set it to 30 to show more detail\n",
    "hist(x = np.array(results), \n",
    "     title = r\"Bootstrapped Samples of $\\mu_{mpg}$\", \n",
    "     xlabel = r\"$\\hat{\\theta}$\", bins = 30)\n"
   ]
  },
  {
   "cell_type": "markdown",
   "metadata": {},
   "source": [
    "## Bootstrap Example | Precaution \n",
    "\n",
    "Before enbarking on resampling methods we must ask what variables are *iid* in order to determine a correct bootstrapping approach. \n",
    "\n",
    "Bootstrap methods are *not* a method of generating new data for, say, a regression setting when observed samples are low. \n",
    "\n",
    "In the above example, it is assumed that each observation in the `mpg` data set is indpendent and identically distributed from an unknown distribution $f$. \n",
    "\n",
    "However, if there were to have existed some autocorrelation structure (as exist in time-series data) then we would need to adjust our resampling methodology to account for this correlation. \n",
    "\n",
    "When dealing with time-series data, we will use a method called *block bootsrap*.\n",
    "\n",
    "\n",
    "## Paired Bootstrapping \n",
    "\n",
    "Let's continue to work with the `mtcars` data set. Say we wanted to make inferences about the linear regression parameters.\n",
    "\n",
    "```{r, message=FALSE}\n",
    "library(ggplot2, quietly = TRUE) ## for graphics\n",
    "mtcars$am <- as.factor(mtcars$am) ## Transmission (0 = automatic, 1 = manual\n",
    "fit = lm(formula = mpg ~ wt + am, data = mtcars)\n",
    "data.frame(coefficients = coefficients(fit), CI = confint(fit), check.names = FALSE)\n",
    "```\n",
    "\n",
    "If you don't have statsmodels install run:\n",
    "- `pip install statsmodels` or\n",
    "- `conda install statsmodels` (if you have Anaconda distribution)"
   ]
  },
  {
   "cell_type": "code",
   "execution_count": 29,
   "metadata": {},
   "outputs": [
    {
     "name": "stdout",
     "output_type": "stream",
     "text": [
      "                            OLS Regression Results                            \n",
      "==============================================================================\n",
      "Dep. Variable:                    mpg   R-squared:                       0.753\n",
      "Model:                            OLS   Adj. R-squared:                  0.736\n",
      "Method:                 Least Squares   F-statistic:                     44.17\n",
      "Date:                Fri, 29 Sep 2017   Prob (F-statistic):           1.58e-09\n",
      "Time:                        08:51:14   Log-Likelihood:                -80.015\n",
      "No. Observations:                  32   AIC:                             166.0\n",
      "Df Residuals:                      29   BIC:                             170.4\n",
      "Df Model:                           2                                         \n",
      "Covariance Type:            nonrobust                                         \n",
      "==============================================================================\n",
      "                 coef    std err          t      P>|t|      [0.025      0.975]\n",
      "------------------------------------------------------------------------------\n",
      "Intercept     37.3216      3.055     12.218      0.000      31.074      43.569\n",
      "wt            -5.3528      0.788     -6.791      0.000      -6.965      -3.741\n",
      "am            -0.0236      1.546     -0.015      0.988      -3.185       3.138\n",
      "==============================================================================\n",
      "Omnibus:                        3.009   Durbin-Watson:                   1.252\n",
      "Prob(Omnibus):                  0.222   Jarque-Bera (JB):                2.413\n",
      "Skew:                           0.670   Prob(JB):                        0.299\n",
      "Kurtosis:                       2.881   Cond. No.                         21.7\n",
      "==============================================================================\n",
      "\n",
      "Warnings:\n",
      "[1] Standard Errors assume that the covariance matrix of the errors is correctly specified.\n"
     ]
    }
   ],
   "source": [
    "import statsmodels.formula.api as smf\n",
    "\n",
    "fit = smf.ols('mpg ~ wt + am', data=mtcars).fit() ## fit the model using R-like syntax\n",
    "print(fit.summary()) ## print the summary output"
   ]
  },
  {
   "cell_type": "code",
   "execution_count": 30,
   "metadata": {},
   "outputs": [
    {
     "name": "stdout",
     "output_type": "stream",
     "text": [
      "                2.5%      97.5%  coefficients\n",
      "Intercept  31.074114  43.568989     37.321551\n",
      "wt         -6.964951  -3.740672     -5.352811\n",
      "am         -3.184815   3.137584     -0.023615\n"
     ]
    }
   ],
   "source": [
    "confint = fit.conf_int() ## get confidence intervals for parameter estimates\n",
    "confint.columns = ['2.5%', '97.5%'] ## rename columns, otherwise they are [0, 1]\n",
    "confint['coefficients'] = fit.params ## get parameter estimates\n",
    "print(confint)\n"
   ]
  },
  {
   "cell_type": "code",
   "execution_count": null,
   "metadata": {},
   "outputs": [],
   "source": []
  },
  {
   "cell_type": "markdown",
   "metadata": {},
   "source": [
    "\n",
    "## Paired Bootstrapping \n",
    "\n",
    "```{r, fig.height=4, fig.width=5}\n",
    "qplot(x = as.factor(am), y = mpg, data = mtcars, geom = \"boxplot\",\n",
    "      main = \"Boxplot: MPG ~ AM\", ylab = \"MPG\", xlab = \"AM\",\n",
    "      colour = am)\n",
    "```\n",
    "\n",
    "\n",
    "## Paired Bootstrapping \n",
    "\n",
    "```{r, fig.height=4, fig.width=5, message=FALSE}\n",
    "qplot(x = wt, y = mpg, data = mtcars, geom = c(\"point\", \"smooth\"),\n",
    "      main = \"Boxplot: MPG ~ Weight\", ylab = \"MPG\", xlab = \"Weight\",\n",
    "      method = \"lm\", formula = y~x)\n",
    "\n",
    "```\n",
    "\n",
    "\n",
    "\n",
    "## Paired Bootstrapping \n",
    "\n",
    "```{r}\n",
    "\n",
    "## save coefficients\n",
    "beta_int = coefficients(fit)[1]\n",
    "beta_wt = coefficients(fit)[2]\n",
    "beta_am = coefficients(fit)[3]\n",
    "\n",
    "n = dim(mtcars)[1] ## number of obs in data\n",
    "B = 1000 ## number of bootstrap samples\n",
    "\n",
    "results = matrix(data = NA, nrow = B, ncol = 3, \n",
    "                 dimnames = list(NULL, c(\"Intercept\", \"wt\", \"am\")))\n",
    "\n",
    "## begin bootstrap for-loop\n",
    "for(b in 1:B){\n",
    "  i = sample(x = 1:n, size = n, replace = TRUE) ## sample indices\n",
    "  temp = mtcars[i,] ## temp data set\n",
    "  temp_model =  lm(formula = mpg ~ wt + am, data = temp) ## train model\n",
    "  coeff = matrix(data = coefficients(temp_model), ncol = 3) ## get coefficients\n",
    "  results[b,] = coeff ## save coefficients in matrix\n",
    "}\n",
    "\n",
    "```\n",
    "\n",
    "\n",
    "\n",
    "## Paired Bootstrapping \n",
    "\n",
    "\n",
    "```{r}\n",
    "\n",
    "results <- data.frame(results, check.names = FALSE)\n",
    "\n",
    "summary(results) ## take a look at the samples\n",
    "\n",
    "boot_int = results[,\"Intercept\"]\n",
    "boot_wt = results[,\"wt\"]\n",
    "boot_am = results[,\"am\"]\n",
    "\n",
    "```\n",
    "\n",
    "\n",
    "## Paired Bootstrapping \n",
    "\n",
    "\n",
    "```{r, echo=FALSE}\n",
    "par(mfrow = c(2,2))\n",
    "hist(boot_int, main = \"Bootstrapped Coefficients for Intercept\",\n",
    "     xlab = \"Coefficients for Intercept\", probability = TRUE)\n",
    "abline(v = coefficients(fit)[1], col = \"black\", lty=2)\n",
    "\n",
    "\n",
    "hist(boot_wt, main = \"Bootstrapped Coefficients for Weight\",\n",
    "     xlab = \"Coefficients for Weight\", probability = TRUE)\n",
    "abline(v = coefficients(fit)[2], col = \"blue\", lty=2)\n",
    "\n",
    "\n",
    "hist(boot_am, main = \"Bootstrapped Coefficients for AM = 1\",\n",
    "     xlab = \"Coefficients for Automatic Transmission\", probability = TRUE)\n",
    "abline(v = coefficients(fit)[3], col = \"green\", lty=2)\n",
    "\n",
    "\n",
    "\n",
    "```\n",
    "\n",
    "\n",
    "\n",
    "\n",
    "## Paired Bootstrapping \n",
    "\n",
    "\n",
    "Now we can estimate bias for each parameter estimate. Define Bias as $Bias(\\theta) = E[\\theta^*] - \\theta$, where in our scenario we have $Bias(\\hat\\theta) = E[\\hat\\theta^*] - \\hat\\theta$. Our bootstrap bias corrected estimates are then $\\hat\\theta_{BC} = \\hat\\theta - Bias(\\hat\\theta)$.\n",
    "\n",
    "\n",
    "```{r}\n",
    "bias_int = mean(boot_int - beta_int)\n",
    "print(bias_int)\n",
    "\n",
    "bias_wt = mean(boot_wt - beta_wt)\n",
    "print(bias_wt)\n",
    "\n",
    "bias_am = mean(boot_am - beta_am)\n",
    "print(bias_am)\n",
    "```\n",
    "\n",
    "\n",
    "\n",
    "\n",
    "## Paired Bootstrapping \n",
    "\n",
    "\n",
    "```{r}\n",
    "## incorportate our bias into the coefficients\n",
    "## we now have bias corrected coefficients\n",
    "\n",
    "intercept = beta_int - bias_int\n",
    "print(intercept)\n",
    "\n",
    "wt = beta_wt - bias_wt\n",
    "print(wt)\n",
    "\n",
    "am = beta_am - bias_am\n",
    "print(am)\n",
    "\n",
    "\n",
    "\n",
    "```\n",
    "\n",
    "\n",
    "\n",
    "\n",
    "\n",
    "## Paired Bootstrapping \n",
    "\n",
    "\n",
    "\n",
    "Another method for applying the bootstrap approach to building an empirical distribution of $\\hat\\beta$ is to bootstrap the residuals. However, bootstrapping the cases is often more robust when there are doubts about a constant variance for the residuals, such as heteroskedasticity. Additionally, paired bootstrap more resembles the original data generation mechanisms.\n",
    "\n",
    "\n",
    "\n",
    "\n",
    "\n",
    "\n"
   ]
  },
  {
   "cell_type": "code",
   "execution_count": null,
   "metadata": {
    "collapsed": true
   },
   "outputs": [],
   "source": []
  },
  {
   "cell_type": "code",
   "execution_count": null,
   "metadata": {
    "collapsed": true
   },
   "outputs": [],
   "source": []
  },
  {
   "cell_type": "code",
   "execution_count": null,
   "metadata": {
    "collapsed": true
   },
   "outputs": [],
   "source": []
  }
 ],
 "metadata": {
  "kernelspec": {
   "display_name": "Python 3",
   "language": "python",
   "name": "python3"
  },
  "language_info": {
   "codemirror_mode": {
    "name": "ipython",
    "version": 3
   },
   "file_extension": ".py",
   "mimetype": "text/x-python",
   "name": "python",
   "nbconvert_exporter": "python",
   "pygments_lexer": "ipython3",
   "version": "3.6.1"
  }
 },
 "nbformat": 4,
 "nbformat_minor": 2
}
